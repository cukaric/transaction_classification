{
 "cells": [
  {
   "cell_type": "code",
   "execution_count": 1,
   "metadata": {},
   "outputs": [],
   "source": [
    "import numpy as np\n",
    "import pandas as pd\n",
    "from scipy.stats import chisquare\n",
    "\n",
    "import matplotlib.pyplot as plt\n",
    "import seaborn as sn\n",
    "\n",
    "import os\n",
    "import pickle\n",
    "import math\n",
    "\n",
    "import tensorflow as tf\n",
    "\n",
    "from sklearn.ensemble import RandomForestClassifier\n",
    "from sklearn.model_selection import train_test_split\n",
    "from sklearn import metrics\n"
   ]
  },
  {
   "cell_type": "code",
   "execution_count": 2,
   "metadata": {},
   "outputs": [],
   "source": [
    "INPUT_DIR = 'data'\n",
    "USE_MODEL_DIR = '../prosapient_eda/models/universal-sentence-encoder-large_5/'# os.path.join('models', 'universal-sentence-encoder-large_5')\n",
    "OUTPUT_DIR = 'output'\n",
    "tf_device = '/CPU:0'"
   ]
  },
  {
   "cell_type": "markdown",
   "metadata": {},
   "source": [
    "# 1. Load and explore"
   ]
  },
  {
   "cell_type": "code",
   "execution_count": 3,
   "metadata": {},
   "outputs": [],
   "source": [
    "df = pd.read_csv(os.path.join(INPUT_DIR, 'train-dataset.csv'))"
   ]
  },
  {
   "cell_type": "code",
   "execution_count": 4,
   "metadata": {},
   "outputs": [
    {
     "data": {
      "text/html": [
       "<div>\n",
       "<style scoped>\n",
       "    .dataframe tbody tr th:only-of-type {\n",
       "        vertical-align: middle;\n",
       "    }\n",
       "\n",
       "    .dataframe tbody tr th {\n",
       "        vertical-align: top;\n",
       "    }\n",
       "\n",
       "    .dataframe thead th {\n",
       "        text-align: right;\n",
       "    }\n",
       "</style>\n",
       "<table border=\"1\" class=\"dataframe\">\n",
       "  <thead>\n",
       "    <tr style=\"text-align: right;\">\n",
       "      <th></th>\n",
       "      <th>transaction_description</th>\n",
       "      <th>transaction_amount</th>\n",
       "      <th>transaction_account_type</th>\n",
       "      <th>transaction_class</th>\n",
       "    </tr>\n",
       "  </thead>\n",
       "  <tbody>\n",
       "    <tr>\n",
       "      <th>0</th>\n",
       "      <td>ANZ INTERNET BANKING FUNDS TFER TRANSFER 77274...</td>\n",
       "      <td>-5000.00</td>\n",
       "      <td>transaction</td>\n",
       "      <td>transfer</td>\n",
       "    </tr>\n",
       "    <tr>\n",
       "      <th>1</th>\n",
       "      <td>VISA DEBIT PURCHASE CARD 4067 VV TRADING PTY L...</td>\n",
       "      <td>-6.50</td>\n",
       "      <td>transaction</td>\n",
       "      <td>payment</td>\n",
       "    </tr>\n",
       "    <tr>\n",
       "      <th>2</th>\n",
       "      <td>return 79/12/01 direct debit 374312 elantis pf...</td>\n",
       "      <td>0.15</td>\n",
       "      <td>transaction</td>\n",
       "      <td>refund</td>\n",
       "    </tr>\n",
       "    <tr>\n",
       "      <th>3</th>\n",
       "      <td>ATM DEPOSIT HANDYBANK BONDI BEACH 2 23718131 0...</td>\n",
       "      <td>50.00</td>\n",
       "      <td>transaction</td>\n",
       "      <td>transfer</td>\n",
       "    </tr>\n",
       "    <tr>\n",
       "      <th>4</th>\n",
       "      <td>POS W/D EATAT153 MERR-08:34</td>\n",
       "      <td>-10.50</td>\n",
       "      <td>transaction</td>\n",
       "      <td>payment</td>\n",
       "    </tr>\n",
       "  </tbody>\n",
       "</table>\n",
       "</div>"
      ],
      "text/plain": [
       "                             transaction_description  transaction_amount  \\\n",
       "0  ANZ INTERNET BANKING FUNDS TFER TRANSFER 77274...            -5000.00   \n",
       "1  VISA DEBIT PURCHASE CARD 4067 VV TRADING PTY L...               -6.50   \n",
       "2  return 79/12/01 direct debit 374312 elantis pf...                0.15   \n",
       "3  ATM DEPOSIT HANDYBANK BONDI BEACH 2 23718131 0...               50.00   \n",
       "4                        POS W/D EATAT153 MERR-08:34              -10.50   \n",
       "\n",
       "  transaction_account_type transaction_class  \n",
       "0              transaction          transfer  \n",
       "1              transaction           payment  \n",
       "2              transaction            refund  \n",
       "3              transaction          transfer  \n",
       "4              transaction           payment  "
      ]
     },
     "execution_count": 4,
     "metadata": {},
     "output_type": "execute_result"
    }
   ],
   "source": [
    "df.head()"
   ]
  },
  {
   "cell_type": "code",
   "execution_count": 5,
   "metadata": {},
   "outputs": [
    {
     "data": {
      "text/html": [
       "<div>\n",
       "<style scoped>\n",
       "    .dataframe tbody tr th:only-of-type {\n",
       "        vertical-align: middle;\n",
       "    }\n",
       "\n",
       "    .dataframe tbody tr th {\n",
       "        vertical-align: top;\n",
       "    }\n",
       "\n",
       "    .dataframe thead tr th {\n",
       "        text-align: left;\n",
       "    }\n",
       "\n",
       "    .dataframe thead tr:last-of-type th {\n",
       "        text-align: right;\n",
       "    }\n",
       "</style>\n",
       "<table border=\"1\" class=\"dataframe\">\n",
       "  <thead>\n",
       "    <tr>\n",
       "      <th></th>\n",
       "      <th colspan=\"8\" halign=\"left\">transaction_amount</th>\n",
       "    </tr>\n",
       "    <tr>\n",
       "      <th></th>\n",
       "      <th>count</th>\n",
       "      <th>mean</th>\n",
       "      <th>std</th>\n",
       "      <th>min</th>\n",
       "      <th>25%</th>\n",
       "      <th>50%</th>\n",
       "      <th>75%</th>\n",
       "      <th>max</th>\n",
       "    </tr>\n",
       "    <tr>\n",
       "      <th>transaction_class</th>\n",
       "      <th></th>\n",
       "      <th></th>\n",
       "      <th></th>\n",
       "      <th></th>\n",
       "      <th></th>\n",
       "      <th></th>\n",
       "      <th></th>\n",
       "      <th></th>\n",
       "    </tr>\n",
       "  </thead>\n",
       "  <tbody>\n",
       "    <tr>\n",
       "      <th>bank-fee</th>\n",
       "      <td>2991.0</td>\n",
       "      <td>-114.408790</td>\n",
       "      <td>420.281249</td>\n",
       "      <td>-8877.08</td>\n",
       "      <td>-15.00</td>\n",
       "      <td>-2.50</td>\n",
       "      <td>-0.965</td>\n",
       "      <td>-0.01</td>\n",
       "    </tr>\n",
       "    <tr>\n",
       "      <th>cash-withdrawal</th>\n",
       "      <td>9670.0</td>\n",
       "      <td>-1096.824440</td>\n",
       "      <td>6043.957534</td>\n",
       "      <td>-300000.00</td>\n",
       "      <td>-500.00</td>\n",
       "      <td>-180.00</td>\n",
       "      <td>-60.000</td>\n",
       "      <td>-0.03</td>\n",
       "    </tr>\n",
       "    <tr>\n",
       "      <th>interest</th>\n",
       "      <td>8602.0</td>\n",
       "      <td>2.252245</td>\n",
       "      <td>47.590250</td>\n",
       "      <td>0.01</td>\n",
       "      <td>0.15</td>\n",
       "      <td>0.15</td>\n",
       "      <td>0.150</td>\n",
       "      <td>2943.44</td>\n",
       "    </tr>\n",
       "    <tr>\n",
       "      <th>payment</th>\n",
       "      <td>37814.0</td>\n",
       "      <td>-96.171395</td>\n",
       "      <td>934.785874</td>\n",
       "      <td>-100000.00</td>\n",
       "      <td>-50.50</td>\n",
       "      <td>-22.00</td>\n",
       "      <td>-10.000</td>\n",
       "      <td>-0.01</td>\n",
       "    </tr>\n",
       "    <tr>\n",
       "      <th>refund</th>\n",
       "      <td>7933.0</td>\n",
       "      <td>9.826434</td>\n",
       "      <td>277.961861</td>\n",
       "      <td>0.01</td>\n",
       "      <td>0.15</td>\n",
       "      <td>0.15</td>\n",
       "      <td>0.150</td>\n",
       "      <td>20529.95</td>\n",
       "    </tr>\n",
       "    <tr>\n",
       "      <th>transfer</th>\n",
       "      <td>32990.0</td>\n",
       "      <td>153.202348</td>\n",
       "      <td>15624.859308</td>\n",
       "      <td>-2150000.00</td>\n",
       "      <td>-100.00</td>\n",
       "      <td>-1.25</td>\n",
       "      <td>185.000</td>\n",
       "      <td>700000.00</td>\n",
       "    </tr>\n",
       "  </tbody>\n",
       "</table>\n",
       "</div>"
      ],
      "text/plain": [
       "                  transaction_amount                                         \\\n",
       "                               count         mean           std         min   \n",
       "transaction_class                                                             \n",
       "bank-fee                      2991.0  -114.408790    420.281249    -8877.08   \n",
       "cash-withdrawal               9670.0 -1096.824440   6043.957534  -300000.00   \n",
       "interest                      8602.0     2.252245     47.590250        0.01   \n",
       "payment                      37814.0   -96.171395    934.785874  -100000.00   \n",
       "refund                        7933.0     9.826434    277.961861        0.01   \n",
       "transfer                     32990.0   153.202348  15624.859308 -2150000.00   \n",
       "\n",
       "                                                       \n",
       "                      25%     50%      75%        max  \n",
       "transaction_class                                      \n",
       "bank-fee           -15.00   -2.50   -0.965      -0.01  \n",
       "cash-withdrawal   -500.00 -180.00  -60.000      -0.03  \n",
       "interest             0.15    0.15    0.150    2943.44  \n",
       "payment            -50.50  -22.00  -10.000      -0.01  \n",
       "refund               0.15    0.15    0.150   20529.95  \n",
       "transfer          -100.00   -1.25  185.000  700000.00  "
      ]
     },
     "execution_count": 5,
     "metadata": {},
     "output_type": "execute_result"
    }
   ],
   "source": [
    "df[['transaction_amount', 'transaction_class']].groupby('transaction_class').describe()"
   ]
  },
  {
   "cell_type": "code",
   "execution_count": 6,
   "metadata": {},
   "outputs": [
    {
     "data": {
      "text/html": [
       "<div>\n",
       "<style scoped>\n",
       "    .dataframe tbody tr th:only-of-type {\n",
       "        vertical-align: middle;\n",
       "    }\n",
       "\n",
       "    .dataframe tbody tr th {\n",
       "        vertical-align: top;\n",
       "    }\n",
       "\n",
       "    .dataframe thead th {\n",
       "        text-align: right;\n",
       "    }\n",
       "</style>\n",
       "<table border=\"1\" class=\"dataframe\">\n",
       "  <thead>\n",
       "    <tr style=\"text-align: right;\">\n",
       "      <th>transaction_class</th>\n",
       "      <th>bank-fee</th>\n",
       "      <th>cash-withdrawal</th>\n",
       "      <th>interest</th>\n",
       "      <th>payment</th>\n",
       "      <th>refund</th>\n",
       "      <th>transfer</th>\n",
       "    </tr>\n",
       "    <tr>\n",
       "      <th>transaction_account_type</th>\n",
       "      <th></th>\n",
       "      <th></th>\n",
       "      <th></th>\n",
       "      <th></th>\n",
       "      <th></th>\n",
       "      <th></th>\n",
       "    </tr>\n",
       "  </thead>\n",
       "  <tbody>\n",
       "    <tr>\n",
       "      <th>credit-card</th>\n",
       "      <td>524.0</td>\n",
       "      <td>34.0</td>\n",
       "      <td>0.0</td>\n",
       "      <td>3181.0</td>\n",
       "      <td>4.0</td>\n",
       "      <td>534.0</td>\n",
       "    </tr>\n",
       "    <tr>\n",
       "      <th>investment</th>\n",
       "      <td>30.0</td>\n",
       "      <td>1.0</td>\n",
       "      <td>16.0</td>\n",
       "      <td>6.0</td>\n",
       "      <td>1.0</td>\n",
       "      <td>164.0</td>\n",
       "    </tr>\n",
       "    <tr>\n",
       "      <th>loan</th>\n",
       "      <td>183.0</td>\n",
       "      <td>22.0</td>\n",
       "      <td>1.0</td>\n",
       "      <td>25.0</td>\n",
       "      <td>0.0</td>\n",
       "      <td>196.0</td>\n",
       "    </tr>\n",
       "    <tr>\n",
       "      <th>mortgage</th>\n",
       "      <td>225.0</td>\n",
       "      <td>61.0</td>\n",
       "      <td>0.0</td>\n",
       "      <td>14.0</td>\n",
       "      <td>1.0</td>\n",
       "      <td>269.0</td>\n",
       "    </tr>\n",
       "    <tr>\n",
       "      <th>savings</th>\n",
       "      <td>41.0</td>\n",
       "      <td>702.0</td>\n",
       "      <td>8534.0</td>\n",
       "      <td>298.0</td>\n",
       "      <td>7.0</td>\n",
       "      <td>5875.0</td>\n",
       "    </tr>\n",
       "    <tr>\n",
       "      <th>term-deposit</th>\n",
       "      <td>0.0</td>\n",
       "      <td>290.0</td>\n",
       "      <td>1.0</td>\n",
       "      <td>0.0</td>\n",
       "      <td>0.0</td>\n",
       "      <td>521.0</td>\n",
       "    </tr>\n",
       "    <tr>\n",
       "      <th>transaction</th>\n",
       "      <td>1988.0</td>\n",
       "      <td>8560.0</td>\n",
       "      <td>50.0</td>\n",
       "      <td>34290.0</td>\n",
       "      <td>7920.0</td>\n",
       "      <td>25431.0</td>\n",
       "    </tr>\n",
       "  </tbody>\n",
       "</table>\n",
       "</div>"
      ],
      "text/plain": [
       "transaction_class         bank-fee  cash-withdrawal  interest  payment  \\\n",
       "transaction_account_type                                                 \n",
       "credit-card                  524.0             34.0       0.0   3181.0   \n",
       "investment                    30.0              1.0      16.0      6.0   \n",
       "loan                         183.0             22.0       1.0     25.0   \n",
       "mortgage                     225.0             61.0       0.0     14.0   \n",
       "savings                       41.0            702.0    8534.0    298.0   \n",
       "term-deposit                   0.0            290.0       1.0      0.0   \n",
       "transaction                 1988.0           8560.0      50.0  34290.0   \n",
       "\n",
       "transaction_class         refund  transfer  \n",
       "transaction_account_type                    \n",
       "credit-card                  4.0     534.0  \n",
       "investment                   1.0     164.0  \n",
       "loan                         0.0     196.0  \n",
       "mortgage                     1.0     269.0  \n",
       "savings                      7.0    5875.0  \n",
       "term-deposit                 0.0     521.0  \n",
       "transaction               7920.0   25431.0  "
      ]
     },
     "execution_count": 6,
     "metadata": {},
     "output_type": "execute_result"
    }
   ],
   "source": [
    "\n",
    "cont_table_type_class = df[['transaction_account_type', 'transaction_class']].pivot_table(values='transaction_account_type',\n",
    "                                                                                          index='transaction_account_type',\n",
    "                                                                                          columns='transaction_class',\n",
    "                                                                                          aggfunc=len).fillna(0)\n",
    "\n",
    "cont_table_type_class"
   ]
  },
  {
   "cell_type": "code",
   "execution_count": 7,
   "metadata": {},
   "outputs": [
    {
     "data": {
      "text/plain": [
       "Power_divergenceResult(statistic=array([  7103.91975928,  43793.3983454 ,  50666.00720763, 181736.63346909,\n",
       "        47416.20824404, 111708.98732949]), pvalue=array([0., 0., 0., 0., 0., 0.]))"
      ]
     },
     "execution_count": 7,
     "metadata": {},
     "output_type": "execute_result"
    }
   ],
   "source": [
    "chisquare(cont_table_type_class)"
   ]
  },
  {
   "cell_type": "markdown",
   "metadata": {},
   "source": [
    "# 2. Encode transaction_description using Universal Sentence Encoder"
   ]
  },
  {
   "cell_type": "code",
   "execution_count": 8,
   "metadata": {},
   "outputs": [],
   "source": [
    "with tf.device(tf_device):\n",
    "    model_use = tf.saved_model.load(USE_MODEL_DIR)\n"
   ]
  },
  {
   "cell_type": "code",
   "execution_count": 9,
   "metadata": {},
   "outputs": [],
   "source": [
    "def embed_docs_f(docs, model, batch_size=1000):\n",
    "    \"\"\"Converts list od documents to dense vectors\"\"\"\n",
    "    \n",
    "    if len(docs) > batch_size:\n",
    "        emb_list = []\n",
    "        N_batch = math.ceil(len(docs) / batch_size)\n",
    "        \n",
    "        for nb in range(N_batch):\n",
    "            if nb * batch_size % 10000 == 0:\n",
    "                print(nb * batch_size)\n",
    "            emb_list.append(model(docs[(nb * batch_size):((nb + 1) * batch_size)]).numpy())\n",
    "        \n",
    "        emb_matrix = np.concatenate(emb_list, axis=0)\n",
    "    else:\n",
    "        emb_matrix = model(docs).numpy()\n",
    "            \n",
    "    return emb_matrix"
   ]
  },
  {
   "cell_type": "code",
   "execution_count": 10,
   "metadata": {},
   "outputs": [
    {
     "name": "stdout",
     "output_type": "stream",
     "text": [
      "0\n",
      "10000\n",
      "20000\n",
      "30000\n",
      "40000\n",
      "50000\n",
      "60000\n",
      "70000\n",
      "80000\n",
      "90000\n"
     ]
    }
   ],
   "source": [
    "emb_desc = embed_docs_f(docs=df.transaction_description,\n",
    "                        model=model_use, batch_size=1000)"
   ]
  },
  {
   "cell_type": "code",
   "execution_count": 11,
   "metadata": {},
   "outputs": [],
   "source": [
    "np.save(os.path.join(OUTPUT_DIR, 'emb_train.npy'), emb_desc)"
   ]
  },
  {
   "cell_type": "markdown",
   "metadata": {},
   "source": [
    "# 3. Train and test classifier"
   ]
  },
  {
   "cell_type": "markdown",
   "metadata": {},
   "source": [
    "## 3.1. Train "
   ]
  },
  {
   "cell_type": "code",
   "execution_count": 12,
   "metadata": {},
   "outputs": [],
   "source": [
    "emb_desc = np.load(os.path.join(OUTPUT_DIR, 'emb_train.npy'))"
   ]
  },
  {
   "cell_type": "code",
   "execution_count": 13,
   "metadata": {},
   "outputs": [],
   "source": [
    "is_positive_amount = np.where(df.transaction_amount > 0, 1, 0)[..., np.newaxis]"
   ]
  },
  {
   "cell_type": "code",
   "execution_count": 14,
   "metadata": {},
   "outputs": [],
   "source": [
    "transaction_type_one_hot = pd.get_dummies(df.transaction_account_type).to_numpy()"
   ]
  },
  {
   "cell_type": "code",
   "execution_count": 15,
   "metadata": {},
   "outputs": [],
   "source": [
    "X = np.concatenate((emb_desc, \n",
    "                    is_positive_amount,\n",
    "                    transaction_type_one_hot), axis=1)\n",
    "y = df.transaction_class\n"
   ]
  },
  {
   "cell_type": "code",
   "execution_count": 16,
   "metadata": {},
   "outputs": [],
   "source": [
    "X_train, X_test, y_train, y_test = train_test_split(X, y, test_size=0.3, stratify=y, random_state=16)"
   ]
  },
  {
   "cell_type": "code",
   "execution_count": 17,
   "metadata": {},
   "outputs": [
    {
     "data": {
      "text/plain": [
       "RandomForestClassifier(n_jobs=7)"
      ]
     },
     "execution_count": 17,
     "metadata": {},
     "output_type": "execute_result"
    }
   ],
   "source": [
    "clf = RandomForestClassifier(n_estimators=100, n_jobs=7)\n",
    "clf.fit(X_train,y_train)\n",
    "\n"
   ]
  },
  {
   "cell_type": "code",
   "execution_count": 18,
   "metadata": {},
   "outputs": [],
   "source": [
    "pickle.dump(clf, open(os.path.join(OUTPUT_DIR, 'rf_classifier.sav'), 'wb'))\n"
   ]
  },
  {
   "cell_type": "markdown",
   "metadata": {},
   "source": [
    "## 3.2. Test and calculate metrics"
   ]
  },
  {
   "cell_type": "code",
   "execution_count": 19,
   "metadata": {},
   "outputs": [],
   "source": [
    "clf = pickle.load(open(os.path.join(OUTPUT_DIR, 'rf_classifier.sav'), 'rb'))"
   ]
  },
  {
   "cell_type": "code",
   "execution_count": 20,
   "metadata": {},
   "outputs": [],
   "source": [
    "y_pred = clf.predict(X_test)"
   ]
  },
  {
   "cell_type": "code",
   "execution_count": 21,
   "metadata": {},
   "outputs": [
    {
     "name": "stdout",
     "output_type": "stream",
     "text": [
      "Accuracy\n",
      "1) test 0.9899\n",
      "2) train 0.9998\n"
     ]
    }
   ],
   "source": [
    "print('Accuracy')\n",
    "print(f'1) test {round(metrics.accuracy_score(y_test, y_pred), 4)}')\n",
    "print(f'2) train {round(metrics.accuracy_score(y_train, clf.predict(X_train)), 4)}')"
   ]
  },
  {
   "cell_type": "code",
   "execution_count": 22,
   "metadata": {},
   "outputs": [],
   "source": [
    "cm = metrics.confusion_matrix(y_test, y_pred)\n",
    "cm_labels = y.unique()\n",
    "cm_labels.sort()"
   ]
  },
  {
   "cell_type": "code",
   "execution_count": 23,
   "metadata": {},
   "outputs": [
    {
     "data": {
      "text/plain": [
       "<AxesSubplot:>"
      ]
     },
     "execution_count": 23,
     "metadata": {},
     "output_type": "execute_result"
    },
    {
     "data": {
      "image/png": "[encoded data removed]",
      "text/plain": [
       "<Figure size 864x864 with 2 Axes>"
      ]
     },
     "metadata": {
      "needs_background": "light"
     },
     "output_type": "display_data"
    }
   ],
   "source": [
    "plt.figure(figsize=(12, 12))\n",
    "sn.heatmap(cm, annot=True, xticklabels=cm_labels, yticklabels=cm_labels)\n"
   ]
  },
  {
   "cell_type": "markdown",
   "metadata": {},
   "source": [
    "## F1-scores"
   ]
  },
  {
   "cell_type": "markdown",
   "metadata": {},
   "source": [
    "### F1 scores for each class"
   ]
  },
  {
   "cell_type": "code",
   "execution_count": 24,
   "metadata": {},
   "outputs": [
    {
     "data": {
      "text/plain": [
       "{'bank-fee': 0.966,\n",
       " 'cash-withdrawal': 0.971,\n",
       " 'interest': 0.9996,\n",
       " 'payment': 0.9896,\n",
       " 'refund': 0.9992,\n",
       " 'transfer': 0.993}"
      ]
     },
     "execution_count": 24,
     "metadata": {},
     "output_type": "execute_result"
    }
   ],
   "source": [
    "{cm_labels[i]: round(f1, 4) for i, f1 in enumerate(metrics.f1_score(y_test, y_pred, average=None))}"
   ]
  },
  {
   "cell_type": "markdown",
   "metadata": {},
   "source": [
    "### Aggregated f1 scores - micro (same as acc), macro, weighted"
   ]
  },
  {
   "cell_type": "code",
   "execution_count": 25,
   "metadata": {},
   "outputs": [
    {
     "name": "stdout",
     "output_type": "stream",
     "text": [
      "F1 micro 0.9899\n",
      "F1 macro 0.9864\n",
      "F1 weighted 0.9898\n"
     ]
    }
   ],
   "source": [
    "print(f\"F1 micro {round(metrics.f1_score(y_test, y_pred, average='micro'), 4)}\")\n",
    "print(f\"F1 macro {round(metrics.f1_score(y_test, y_pred, average='macro'), 4)}\")\n",
    "print(f\"F1 weighted {round(metrics.f1_score(y_test, y_pred, average='weighted'), 4)}\")"
   ]
  },
  {
   "cell_type": "markdown",
   "metadata": {},
   "source": [
    "# 4. Scorecard - transaction class prediction"
   ]
  },
  {
   "cell_type": "code",
   "execution_count": 26,
   "metadata": {},
   "outputs": [
    {
     "data": {
      "text/html": [
       "<div>\n",
       "<style scoped>\n",
       "    .dataframe tbody tr th:only-of-type {\n",
       "        vertical-align: middle;\n",
       "    }\n",
       "\n",
       "    .dataframe tbody tr th {\n",
       "        vertical-align: top;\n",
       "    }\n",
       "\n",
       "    .dataframe thead th {\n",
       "        text-align: right;\n",
       "    }\n",
       "</style>\n",
       "<table border=\"1\" class=\"dataframe\">\n",
       "  <thead>\n",
       "    <tr style=\"text-align: right;\">\n",
       "      <th></th>\n",
       "      <th>transaction_description</th>\n",
       "      <th>transaction_amount</th>\n",
       "      <th>transaction_account_type</th>\n",
       "    </tr>\n",
       "  </thead>\n",
       "  <tbody>\n",
       "    <tr>\n",
       "      <th>0</th>\n",
       "      <td>0011393060001 Transfer to Macquarie Bank - Rec...</td>\n",
       "      <td>-342.52</td>\n",
       "      <td>transaction</td>\n",
       "    </tr>\n",
       "    <tr>\n",
       "      <th>1</th>\n",
       "      <td>0318352 Transfer to Jimboomba Gymnastics Club ...</td>\n",
       "      <td>-157.50</td>\n",
       "      <td>transaction</td>\n",
       "    </tr>\n",
       "    <tr>\n",
       "      <th>2</th>\n",
       "      <td>0REGENTVILLE PS 2951 Visa Purchase - Receipt 1...</td>\n",
       "      <td>-49.00</td>\n",
       "      <td>transaction</td>\n",
       "    </tr>\n",
       "    <tr>\n",
       "      <th>3</th>\n",
       "      <td>0TUGGERAWONG PS 4097 Visa Purchase - Receipt 1...</td>\n",
       "      <td>-20.00</td>\n",
       "      <td>transaction</td>\n",
       "    </tr>\n",
       "    <tr>\n",
       "      <th>4</th>\n",
       "      <td>1001026 Transfer to Blink Property - Receipt 6...</td>\n",
       "      <td>-710.00</td>\n",
       "      <td>transaction</td>\n",
       "    </tr>\n",
       "  </tbody>\n",
       "</table>\n",
       "</div>"
      ],
      "text/plain": [
       "                             transaction_description  transaction_amount  \\\n",
       "0  0011393060001 Transfer to Macquarie Bank - Rec...             -342.52   \n",
       "1  0318352 Transfer to Jimboomba Gymnastics Club ...             -157.50   \n",
       "2  0REGENTVILLE PS 2951 Visa Purchase - Receipt 1...              -49.00   \n",
       "3  0TUGGERAWONG PS 4097 Visa Purchase - Receipt 1...              -20.00   \n",
       "4  1001026 Transfer to Blink Property - Receipt 6...             -710.00   \n",
       "\n",
       "  transaction_account_type  \n",
       "0              transaction  \n",
       "1              transaction  \n",
       "2              transaction  \n",
       "3              transaction  \n",
       "4              transaction  "
      ]
     },
     "execution_count": 26,
     "metadata": {},
     "output_type": "execute_result"
    }
   ],
   "source": [
    "df_scorecard = pd.read_csv(os.path.join(INPUT_DIR, 'scorecard.csv'))\n",
    "df_scorecard.head()"
   ]
  },
  {
   "cell_type": "code",
   "execution_count": 27,
   "metadata": {},
   "outputs": [],
   "source": [
    "emb_desc_scorecard = embed_docs_f(docs=df_scorecard.transaction_description, model=model_use, batch_size=1000)\n",
    "is_positive_amount_scorecard = np.where(df_scorecard.transaction_amount > 0, 1, 0)[..., np.newaxis]\n",
    "transaction_type_one_hot_scorecard = pd.concat(((pd.get_dummies(df.transaction_account_type).iloc[:0].T,\n",
    "                                                 pd.get_dummies(df_scorecard.transaction_account_type).T)\n",
    "                                               ), axis=1).fillna(0).T\n",
    "\n",
    "X_scorecard = np.concatenate((emb_desc_scorecard, \n",
    "                              is_positive_amount_scorecard, \n",
    "                              transaction_type_one_hot_scorecard), axis=1)"
   ]
  },
  {
   "cell_type": "code",
   "execution_count": 28,
   "metadata": {},
   "outputs": [],
   "source": [
    "df_scorecard['transaction_class'] = clf.predict(X_scorecard)"
   ]
  },
  {
   "cell_type": "code",
   "execution_count": 29,
   "metadata": {},
   "outputs": [
    {
     "data": {
      "text/plain": [
       "payment            414\n",
       "transfer            40\n",
       "cash-withdrawal     11\n",
       "refund               1\n",
       "bank-fee             1\n",
       "Name: transaction_class, dtype: int64"
      ]
     },
     "execution_count": 29,
     "metadata": {},
     "output_type": "execute_result"
    }
   ],
   "source": [
    "df_scorecard['transaction_class'].value_counts()"
   ]
  },
  {
   "cell_type": "code",
   "execution_count": 30,
   "metadata": {},
   "outputs": [],
   "source": [
    "df_scorecard.to_csv(os.path.join(OUTPUT_DIR, 'scorecard_with_predictions.csv'), index=False)"
   ]
  },
  {
   "cell_type": "code",
   "execution_count": 32,
   "metadata": {},
   "outputs": [
    {
     "data": {
      "text/html": [
       "<div>\n",
       "<style scoped>\n",
       "    .dataframe tbody tr th:only-of-type {\n",
       "        vertical-align: middle;\n",
       "    }\n",
       "\n",
       "    .dataframe tbody tr th {\n",
       "        vertical-align: top;\n",
       "    }\n",
       "\n",
       "    .dataframe thead tr th {\n",
       "        text-align: left;\n",
       "    }\n",
       "\n",
       "    .dataframe thead tr:last-of-type th {\n",
       "        text-align: right;\n",
       "    }\n",
       "</style>\n",
       "<table border=\"1\" class=\"dataframe\">\n",
       "  <thead>\n",
       "    <tr>\n",
       "      <th></th>\n",
       "      <th colspan=\"8\" halign=\"left\">transaction_amount</th>\n",
       "    </tr>\n",
       "    <tr>\n",
       "      <th></th>\n",
       "      <th>count</th>\n",
       "      <th>mean</th>\n",
       "      <th>std</th>\n",
       "      <th>min</th>\n",
       "      <th>25%</th>\n",
       "      <th>50%</th>\n",
       "      <th>75%</th>\n",
       "      <th>max</th>\n",
       "    </tr>\n",
       "    <tr>\n",
       "      <th>transaction_class</th>\n",
       "      <th></th>\n",
       "      <th></th>\n",
       "      <th></th>\n",
       "      <th></th>\n",
       "      <th></th>\n",
       "      <th></th>\n",
       "      <th></th>\n",
       "      <th></th>\n",
       "    </tr>\n",
       "  </thead>\n",
       "  <tbody>\n",
       "    <tr>\n",
       "      <th>bank-fee</th>\n",
       "      <td>2991.0</td>\n",
       "      <td>-114.408790</td>\n",
       "      <td>420.281249</td>\n",
       "      <td>-8877.08</td>\n",
       "      <td>-15.00</td>\n",
       "      <td>-2.50</td>\n",
       "      <td>-0.965</td>\n",
       "      <td>-0.01</td>\n",
       "    </tr>\n",
       "    <tr>\n",
       "      <th>cash-withdrawal</th>\n",
       "      <td>9670.0</td>\n",
       "      <td>-1096.824440</td>\n",
       "      <td>6043.957534</td>\n",
       "      <td>-300000.00</td>\n",
       "      <td>-500.00</td>\n",
       "      <td>-180.00</td>\n",
       "      <td>-60.000</td>\n",
       "      <td>-0.03</td>\n",
       "    </tr>\n",
       "    <tr>\n",
       "      <th>interest</th>\n",
       "      <td>8602.0</td>\n",
       "      <td>2.252245</td>\n",
       "      <td>47.590250</td>\n",
       "      <td>0.01</td>\n",
       "      <td>0.15</td>\n",
       "      <td>0.15</td>\n",
       "      <td>0.150</td>\n",
       "      <td>2943.44</td>\n",
       "    </tr>\n",
       "    <tr>\n",
       "      <th>payment</th>\n",
       "      <td>37814.0</td>\n",
       "      <td>-96.171395</td>\n",
       "      <td>934.785874</td>\n",
       "      <td>-100000.00</td>\n",
       "      <td>-50.50</td>\n",
       "      <td>-22.00</td>\n",
       "      <td>-10.000</td>\n",
       "      <td>-0.01</td>\n",
       "    </tr>\n",
       "    <tr>\n",
       "      <th>refund</th>\n",
       "      <td>7933.0</td>\n",
       "      <td>9.826434</td>\n",
       "      <td>277.961861</td>\n",
       "      <td>0.01</td>\n",
       "      <td>0.15</td>\n",
       "      <td>0.15</td>\n",
       "      <td>0.150</td>\n",
       "      <td>20529.95</td>\n",
       "    </tr>\n",
       "    <tr>\n",
       "      <th>transfer</th>\n",
       "      <td>32990.0</td>\n",
       "      <td>153.202348</td>\n",
       "      <td>15624.859308</td>\n",
       "      <td>-2150000.00</td>\n",
       "      <td>-100.00</td>\n",
       "      <td>-1.25</td>\n",
       "      <td>185.000</td>\n",
       "      <td>700000.00</td>\n",
       "    </tr>\n",
       "  </tbody>\n",
       "</table>\n",
       "</div>"
      ],
      "text/plain": [
       "                  transaction_amount                                         \\\n",
       "                               count         mean           std         min   \n",
       "transaction_class                                                             \n",
       "bank-fee                      2991.0  -114.408790    420.281249    -8877.08   \n",
       "cash-withdrawal               9670.0 -1096.824440   6043.957534  -300000.00   \n",
       "interest                      8602.0     2.252245     47.590250        0.01   \n",
       "payment                      37814.0   -96.171395    934.785874  -100000.00   \n",
       "refund                        7933.0     9.826434    277.961861        0.01   \n",
       "transfer                     32990.0   153.202348  15624.859308 -2150000.00   \n",
       "\n",
       "                                                       \n",
       "                      25%     50%      75%        max  \n",
       "transaction_class                                      \n",
       "bank-fee           -15.00   -2.50   -0.965      -0.01  \n",
       "cash-withdrawal   -500.00 -180.00  -60.000      -0.03  \n",
       "interest             0.15    0.15    0.150    2943.44  \n",
       "payment            -50.50  -22.00  -10.000      -0.01  \n",
       "refund               0.15    0.15    0.150   20529.95  \n",
       "transfer          -100.00   -1.25  185.000  700000.00  "
      ]
     },
     "execution_count": 32,
     "metadata": {},
     "output_type": "execute_result"
    }
   ],
   "source": [
    "df[['transaction_amount', 'transaction_class']].groupby('transaction_class').describe()"
   ]
  },
  {
   "cell_type": "markdown",
   "metadata": {},
   "source": [
    "# Links"
   ]
  },
  {
   "cell_type": "markdown",
   "metadata": {},
   "source": [
    "Universal sentence encoder - https://tfhub.dev/google/universal-sentence-encoder-large/5"
   ]
  }
 ],
 "metadata": {
  "kernelspec": {
   "display_name": "Python (nlp_38)",
   "language": "python",
   "name": "nlp_38"
  },
  "language_info": {
   "codemirror_mode": {
    "name": "ipython",
    "version": 3
   },
   "file_extension": ".py",
   "mimetype": "text/x-python",
   "name": "python",
   "nbconvert_exporter": "python",
   "pygments_lexer": "ipython3",
   "version": "3.8.6"
  }
 },
 "nbformat": 4,
 "nbformat_minor": 4
}
